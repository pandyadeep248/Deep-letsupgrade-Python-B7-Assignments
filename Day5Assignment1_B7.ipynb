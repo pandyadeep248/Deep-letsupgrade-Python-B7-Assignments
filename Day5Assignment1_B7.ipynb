{
  "nbformat": 4,
  "nbformat_minor": 0,
  "metadata": {
    "colab": {
      "name": "Day5Assignment1-B7.ipynb",
      "provenance": [],
      "authorship_tag": "ABX9TyNtt0BbUTihsMNkmM94xoDc",
      "include_colab_link": true
    },
    "kernelspec": {
      "name": "python3",
      "display_name": "Python 3"
    }
  },
  "cells": [
    {
      "cell_type": "markdown",
      "metadata": {
        "id": "view-in-github",
        "colab_type": "text"
      },
      "source": [
        "<a href=\"https://colab.research.google.com/github/pandyadeep248/Deep-letsupgrade-Python-B7-Assignments/blob/master/Day5Assignment1_B7.ipynb\" target=\"_parent\"><img src=\"https://colab.research.google.com/assets/colab-badge.svg\" alt=\"Open In Colab\"/></a>"
      ]
    },
    {
      "cell_type": "markdown",
      "metadata": {
        "id": "YygwC_AG4OcT",
        "colab_type": "text"
      },
      "source": [
        "DAY 5 - ASSIGNMENT 1"
      ]
    },
    {
      "cell_type": "code",
      "metadata": {
        "id": "OFWz5_OcyZET",
        "colab_type": "code",
        "colab": {
          "base_uri": "https://localhost:8080/",
          "height": 188
        },
        "outputId": "5c49b568-98e6-4b9c-c757-5ace4c8077b6"
      },
      "source": [
        "def getInput():\n",
        "    tempList=[]\n",
        "    i=0\n",
        "    while i < 8:\n",
        "        val = int(input(f\"Enter number {i+1}: \"))\n",
        "        tempList.append(val)\n",
        "        i+=1\n",
        "    return tempList\n",
        "\n",
        "def check(a):\n",
        "    subList = [1,1,5]\n",
        "    for i in a:\n",
        "        for j in subList:\n",
        "            if(len(subList)>=0 and j == i):\n",
        "                subList.pop(0)\n",
        "            else:\n",
        "                break\n",
        "    \n",
        "    if len(subList)==0:\n",
        "        return \"It's a match\"\n",
        "    else:\n",
        "        return \"It's gone\"\n",
        "\n",
        "\n",
        "supList = getInput()        \n",
        "print(\"Provided List is :\",supList)\n",
        "check(supList)"
      ],
      "execution_count": 1,
      "outputs": [
        {
          "output_type": "stream",
          "text": [
            "Enter number 1: 1\n",
            "Enter number 2: 2\n",
            "Enter number 3: 3\n",
            "Enter number 4: 1\n",
            "Enter number 5: 3\n",
            "Enter number 6: 5\n",
            "Enter number 7: 6\n",
            "Enter number 8: 7\n",
            "Provided List is : [1, 2, 3, 1, 3, 5, 6, 7]\n"
          ],
          "name": "stdout"
        },
        {
          "output_type": "execute_result",
          "data": {
            "application/vnd.google.colaboratory.intrinsic+json": {
              "type": "string"
            },
            "text/plain": [
              "\"It's a match\""
            ]
          },
          "metadata": {
            "tags": []
          },
          "execution_count": 1
        }
      ]
    }
  ]
}