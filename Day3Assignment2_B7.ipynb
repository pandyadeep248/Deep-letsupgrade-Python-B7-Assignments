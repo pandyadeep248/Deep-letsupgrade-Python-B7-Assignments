{
  "nbformat": 4,
  "nbformat_minor": 0,
  "metadata": {
    "colab": {
      "name": "Day3Assignment2-B7.ipynb",
      "provenance": [],
      "collapsed_sections": [],
      "authorship_tag": "ABX9TyM30u9+G7iF3sruBl2GuV2v",
      "include_colab_link": true
    },
    "kernelspec": {
      "name": "python3",
      "display_name": "Python 3"
    }
  },
  "cells": [
    {
      "cell_type": "markdown",
      "metadata": {
        "id": "view-in-github",
        "colab_type": "text"
      },
      "source": [
        "<a href=\"https://colab.research.google.com/github/pandyadeep248/Deep-letsupgrade-Python-B7-Assignments/blob/master/Day3Assignment2_B7.ipynb\" target=\"_parent\"><img src=\"https://colab.research.google.com/assets/colab-badge.svg\" alt=\"Open In Colab\"/></a>"
      ]
    },
    {
      "cell_type": "markdown",
      "metadata": {
        "id": "h9h4XmDgKvI1",
        "colab_type": "text"
      },
      "source": [
        "Prime numbers between 0 to 200\n"
      ]
    },
    {
      "cell_type": "code",
      "metadata": {
        "id": "9-FevuSQ99TJ",
        "colab_type": "code",
        "colab": {
          "base_uri": "https://localhost:8080/",
          "height": 799
        },
        "outputId": "01224df9-2075-4d9b-e52b-c3370a084ab5"
      },
      "source": [
        "for num in range(0,200):\n",
        "\n",
        "    if num > 1:\n",
        "         for i in range(2,num):\n",
        "            \n",
        "            if (num % i) == 0:\n",
        "               \n",
        "               break\n",
        "         else:\n",
        "            print(num)\n",
        "\n",
        "    else:\n",
        "       pass"
      ],
      "execution_count": 17,
      "outputs": [
        {
          "output_type": "stream",
          "text": [
            "2\n",
            "3\n",
            "5\n",
            "7\n",
            "11\n",
            "13\n",
            "17\n",
            "19\n",
            "23\n",
            "29\n",
            "31\n",
            "37\n",
            "41\n",
            "43\n",
            "47\n",
            "53\n",
            "59\n",
            "61\n",
            "67\n",
            "71\n",
            "73\n",
            "79\n",
            "83\n",
            "89\n",
            "97\n",
            "101\n",
            "103\n",
            "107\n",
            "109\n",
            "113\n",
            "127\n",
            "131\n",
            "137\n",
            "139\n",
            "149\n",
            "151\n",
            "157\n",
            "163\n",
            "167\n",
            "173\n",
            "179\n",
            "181\n",
            "191\n",
            "193\n",
            "197\n",
            "199\n"
          ],
          "name": "stdout"
        }
      ]
    }
  ]
}