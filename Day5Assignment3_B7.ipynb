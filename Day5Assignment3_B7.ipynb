{
  "nbformat": 4,
  "nbformat_minor": 0,
  "metadata": {
    "colab": {
      "name": "Day5Assignment3-B7.ipynb",
      "provenance": [],
      "authorship_tag": "ABX9TyNH/ooLiAGNj3ovMn3M/5Sg",
      "include_colab_link": true
    },
    "kernelspec": {
      "name": "python3",
      "display_name": "Python 3"
    }
  },
  "cells": [
    {
      "cell_type": "markdown",
      "metadata": {
        "id": "view-in-github",
        "colab_type": "text"
      },
      "source": [
        "<a href=\"https://colab.research.google.com/github/pandyadeep248/Deep-letsupgrade-Python-B7-Assignments/blob/master/Day5Assignment3_B7.ipynb\" target=\"_parent\"><img src=\"https://colab.research.google.com/assets/colab-badge.svg\" alt=\"Open In Colab\"/></a>"
      ]
    },
    {
      "cell_type": "markdown",
      "metadata": {
        "id": "oOfewEXXFgs-",
        "colab_type": "text"
      },
      "source": [
        "DAY 5 - ASSIGNMENT 3"
      ]
    },
    {
      "cell_type": "code",
      "metadata": {
        "id": "Xuqt27TaFRlW",
        "colab_type": "code",
        "colab": {
          "base_uri": "https://localhost:8080/",
          "height": 34
        },
        "outputId": "78abea50-4e6b-49a5-9d41-a69074aa49fc"
      },
      "source": [
        "lst=[\"hey this is deep\",\"i am in virar\",\"i love to play\",\"i play cricket\"]\n",
        "print(lst)"
      ],
      "execution_count": 1,
      "outputs": [
        {
          "output_type": "stream",
          "text": [
            "['hey this is deep', 'i am in virar', 'i love to play', 'i play cricket']\n"
          ],
          "name": "stdout"
        }
      ]
    },
    {
      "cell_type": "code",
      "metadata": {
        "id": "jRBcv7ZvJjo-",
        "colab_type": "code",
        "colab": {
          "base_uri": "https://localhost:8080/",
          "height": 34
        },
        "outputId": "ae3a1a81-16d2-4151-daf0-03ec98b78f9e"
      },
      "source": [
        "lst1=map(lambda name: name.title(),lst)\n",
        "list(lst1)"
      ],
      "execution_count": 2,
      "outputs": [
        {
          "output_type": "execute_result",
          "data": {
            "text/plain": [
              "['Hey This Is Deep', 'I Am In Virar', 'I Love To Play', 'I Play Cricket']"
            ]
          },
          "metadata": {
            "tags": []
          },
          "execution_count": 2
        }
      ]
    }
  ]
}