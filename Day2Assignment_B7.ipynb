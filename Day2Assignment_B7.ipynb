{
  "nbformat": 4,
  "nbformat_minor": 0,
  "metadata": {
    "colab": {
      "name": "Day2Assignment-B7.ipynb",
      "provenance": [],
      "collapsed_sections": [],
      "authorship_tag": "ABX9TyPv3UNFfTetR8wjq1OtvcDL",
      "include_colab_link": true
    },
    "kernelspec": {
      "name": "python3",
      "display_name": "Python 3"
    }
  },
  "cells": [
    {
      "cell_type": "markdown",
      "metadata": {
        "id": "view-in-github",
        "colab_type": "text"
      },
      "source": [
        "<a href=\"https://colab.research.google.com/github/pandyadeep248/Deep-letsupgrade-Python-B7-Assignments/blob/master/Day2Assignment_B7.ipynb\" target=\"_parent\"><img src=\"https://colab.research.google.com/assets/colab-badge.svg\" alt=\"Open In Colab\"/></a>"
      ]
    },
    {
      "cell_type": "markdown",
      "metadata": {
        "id": "jgiOwOLKgLr6",
        "colab_type": "text"
      },
      "source": [
        "LIST AND ITS DEFAULT FUNCTIONS"
      ]
    },
    {
      "cell_type": "code",
      "metadata": {
        "id": "9sXkmiwHZxlo",
        "colab_type": "code",
        "colab": {
          "base_uri": "https://localhost:8080/",
          "height": 34
        },
        "outputId": "dbbcd4dd-1d97-4ae9-c788-d4cd4534e3d1"
      },
      "source": [
        "lst=[1,2,3,[32,4,3],23.34,\"deep\"]\n",
        "\n",
        "lst"
      ],
      "execution_count": 160,
      "outputs": [
        {
          "output_type": "execute_result",
          "data": {
            "text/plain": [
              "[1, 2, 3, [32, 4, 3], 23.34, 'deep']"
            ]
          },
          "metadata": {
            "tags": []
          },
          "execution_count": 160
        }
      ]
    },
    {
      "cell_type": "code",
      "metadata": {
        "id": "vxmrZEY2c5CV",
        "colab_type": "code",
        "colab": {
          "base_uri": "https://localhost:8080/",
          "height": 34
        },
        "outputId": "3527597a-2933-425c-c60f-12ffe055275d"
      },
      "source": [
        "lst.append(\"pandya\")\n",
        "\n",
        "lst"
      ],
      "execution_count": 161,
      "outputs": [
        {
          "output_type": "execute_result",
          "data": {
            "text/plain": [
              "[1, 2, 3, [32, 4, 3], 23.34, 'deep', 'pandya']"
            ]
          },
          "metadata": {
            "tags": []
          },
          "execution_count": 161
        }
      ]
    },
    {
      "cell_type": "code",
      "metadata": {
        "id": "Jy1BgHdec-gi",
        "colab_type": "code",
        "colab": {
          "base_uri": "https://localhost:8080/",
          "height": 34
        },
        "outputId": "5116c3fa-f768-4d29-883c-31f07439c945"
      },
      "source": [
        "lst.pop(2)\n",
        "\n",
        "lst"
      ],
      "execution_count": 162,
      "outputs": [
        {
          "output_type": "execute_result",
          "data": {
            "text/plain": [
              "[1, 2, [32, 4, 3], 23.34, 'deep', 'pandya']"
            ]
          },
          "metadata": {
            "tags": []
          },
          "execution_count": 162
        }
      ]
    },
    {
      "cell_type": "code",
      "metadata": {
        "id": "tbl0kup-dM6y",
        "colab_type": "code",
        "colab": {
          "base_uri": "https://localhost:8080/",
          "height": 34
        },
        "outputId": "fef99f3b-a002-4913-e477-9fd5e5688c24"
      },
      "source": [
        "lst.insert(1, \"name\")\n",
        "\n",
        "lst\n"
      ],
      "execution_count": 163,
      "outputs": [
        {
          "output_type": "execute_result",
          "data": {
            "text/plain": [
              "[1, 'name', 2, [32, 4, 3], 23.34, 'deep', 'pandya']"
            ]
          },
          "metadata": {
            "tags": []
          },
          "execution_count": 163
        }
      ]
    },
    {
      "cell_type": "code",
      "metadata": {
        "id": "uFtHBnyjdcfq",
        "colab_type": "code",
        "colab": {
          "base_uri": "https://localhost:8080/",
          "height": 34
        },
        "outputId": "6d35fa98-55e1-4b08-91f7-79fd1a95ec96"
      },
      "source": [
        "lst.remove(23.34)\n",
        "\n",
        "lst"
      ],
      "execution_count": 164,
      "outputs": [
        {
          "output_type": "execute_result",
          "data": {
            "text/plain": [
              "[1, 'name', 2, [32, 4, 3], 'deep', 'pandya']"
            ]
          },
          "metadata": {
            "tags": []
          },
          "execution_count": 164
        }
      ]
    },
    {
      "cell_type": "code",
      "metadata": {
        "id": "M5Rs4siXd1D7",
        "colab_type": "code",
        "colab": {
          "base_uri": "https://localhost:8080/",
          "height": 34
        },
        "outputId": "c7dc5c00-9464-4605-b450-c476e47064b9"
      },
      "source": [
        "lst.reverse()\n",
        "\n",
        "lst"
      ],
      "execution_count": 165,
      "outputs": [
        {
          "output_type": "execute_result",
          "data": {
            "text/plain": [
              "['pandya', 'deep', [32, 4, 3], 2, 'name', 1]"
            ]
          },
          "metadata": {
            "tags": []
          },
          "execution_count": 165
        }
      ]
    },
    {
      "cell_type": "code",
      "metadata": {
        "id": "vtPMBGA3eMNS",
        "colab_type": "code",
        "colab": {
          "base_uri": "https://localhost:8080/",
          "height": 34
        },
        "outputId": "7e987a2f-149f-4cf3-f0ae-2256be4152dc"
      },
      "source": [
        "lst1 = [22,716252,\"letsupgrade\"]\n",
        "\n",
        "lst.extend(lst1)\n",
        "\n",
        "lst"
      ],
      "execution_count": 166,
      "outputs": [
        {
          "output_type": "execute_result",
          "data": {
            "text/plain": [
              "['pandya', 'deep', [32, 4, 3], 2, 'name', 1, 22, 716252, 'letsupgrade']"
            ]
          },
          "metadata": {
            "tags": []
          },
          "execution_count": 166
        }
      ]
    },
    {
      "cell_type": "code",
      "metadata": {
        "id": "CqgShoYhe6Yr",
        "colab_type": "code",
        "colab": {
          "base_uri": "https://localhost:8080/",
          "height": 34
        },
        "outputId": "8c7b3bc3-5f41-4390-daf1-471e55741869"
      },
      "source": [
        "x = lst.index(\"deep\")\n",
        "\n",
        "print(x)"
      ],
      "execution_count": 167,
      "outputs": [
        {
          "output_type": "stream",
          "text": [
            "1\n"
          ],
          "name": "stdout"
        }
      ]
    },
    {
      "cell_type": "code",
      "metadata": {
        "id": "TTUOTCfFf0us",
        "colab_type": "code",
        "colab": {
          "base_uri": "https://localhost:8080/",
          "height": 34
        },
        "outputId": "fb86efd5-f814-4cd1-94b4-6143b4f3ecca"
      },
      "source": [
        "x = lst.count(\"pandya\")\n",
        "\n",
        "print(x)"
      ],
      "execution_count": 168,
      "outputs": [
        {
          "output_type": "stream",
          "text": [
            "1\n"
          ],
          "name": "stdout"
        }
      ]
    },
    {
      "cell_type": "markdown",
      "metadata": {
        "id": "O5coDezlgjOh",
        "colab_type": "text"
      },
      "source": [
        "DICTIONARIES AND ITS DEFAULT FUNCTIONS\n"
      ]
    },
    {
      "cell_type": "code",
      "metadata": {
        "id": "3g9EqhXcgrEl",
        "colab_type": "code",
        "colab": {
          "base_uri": "https://localhost:8080/",
          "height": 85
        },
        "outputId": "3c79d91b-52eb-4627-ad1f-7cd309080097"
      },
      "source": [
        "dit={\"name\":\"deep\", \"surname\":\"pandya\",\"course\":\"letsupgrade\",\"number\":\"1225143\"}\n",
        "\n",
        "dit "
      ],
      "execution_count": 169,
      "outputs": [
        {
          "output_type": "execute_result",
          "data": {
            "text/plain": [
              "{'course': 'letsupgrade',\n",
              " 'name': 'deep',\n",
              " 'number': '1225143',\n",
              " 'surname': 'pandya'}"
            ]
          },
          "metadata": {
            "tags": []
          },
          "execution_count": 169
        }
      ]
    },
    {
      "cell_type": "code",
      "metadata": {
        "id": "kRWtJb3lzvoK",
        "colab_type": "code",
        "colab": {
          "base_uri": "https://localhost:8080/",
          "height": 34
        },
        "outputId": "35fe2dd0-cbdf-4fb2-8a0e-874d12699ac4"
      },
      "source": [
        "x = dit.get(\"surname\")\n",
        "\n",
        "print(x)\n"
      ],
      "execution_count": 170,
      "outputs": [
        {
          "output_type": "stream",
          "text": [
            "pandya\n"
          ],
          "name": "stdout"
        }
      ]
    },
    {
      "cell_type": "code",
      "metadata": {
        "id": "I5AZAa_s0o-l",
        "colab_type": "code",
        "colab": {
          "base_uri": "https://localhost:8080/",
          "height": 34
        },
        "outputId": "7780a8c3-a033-445f-f2c4-07b45747a3dd"
      },
      "source": [
        "dit.pop(\"number\")\n",
        "\n",
        "dit"
      ],
      "execution_count": 171,
      "outputs": [
        {
          "output_type": "execute_result",
          "data": {
            "text/plain": [
              "{'course': 'letsupgrade', 'name': 'deep', 'surname': 'pandya'}"
            ]
          },
          "metadata": {
            "tags": []
          },
          "execution_count": 171
        }
      ]
    },
    {
      "cell_type": "code",
      "metadata": {
        "id": "6dztNB7yjd_A",
        "colab_type": "code",
        "colab": {
          "base_uri": "https://localhost:8080/",
          "height": 34
        },
        "outputId": "2bdf14c3-af2b-49ff-d92a-3faff050c598"
      },
      "source": [
        "dit.popitem()\n",
        "\n",
        "print(dit)"
      ],
      "execution_count": 172,
      "outputs": [
        {
          "output_type": "stream",
          "text": [
            "{'name': 'deep', 'surname': 'pandya'}\n"
          ],
          "name": "stdout"
        }
      ]
    },
    {
      "cell_type": "code",
      "metadata": {
        "id": "sZ5QiZ7JkbFs",
        "colab_type": "code",
        "colab": {
          "base_uri": "https://localhost:8080/",
          "height": 34
        },
        "outputId": "f3fe11be-ea9d-4cb4-8619-a287c3c200ed"
      },
      "source": [
        "x = dit.copy()\n",
        "\n",
        "print(x)"
      ],
      "execution_count": 173,
      "outputs": [
        {
          "output_type": "stream",
          "text": [
            "{'name': 'deep', 'surname': 'pandya'}\n"
          ],
          "name": "stdout"
        }
      ]
    },
    {
      "cell_type": "code",
      "metadata": {
        "id": "tfNo_-IrkuSn",
        "colab_type": "code",
        "colab": {
          "base_uri": "https://localhost:8080/",
          "height": 34
        },
        "outputId": "353f6990-0540-45ee-8323-9cc79a2df4ed"
      },
      "source": [
        "dit.update({\"course\": \"letsupgrade\"})\n",
        "\n",
        "print(dit)\n"
      ],
      "execution_count": 174,
      "outputs": [
        {
          "output_type": "stream",
          "text": [
            "{'name': 'deep', 'surname': 'pandya', 'course': 'letsupgrade'}\n"
          ],
          "name": "stdout"
        }
      ]
    },
    {
      "cell_type": "code",
      "metadata": {
        "id": "1X96zEtdlN1s",
        "colab_type": "code",
        "colab": {
          "base_uri": "https://localhost:8080/",
          "height": 34
        },
        "outputId": "7384b465-62f6-4599-f097-c9e89aa66b3d"
      },
      "source": [
        "x = dit.values()\n",
        "\n",
        "print(x)"
      ],
      "execution_count": 175,
      "outputs": [
        {
          "output_type": "stream",
          "text": [
            "dict_values(['deep', 'pandya', 'letsupgrade'])\n"
          ],
          "name": "stdout"
        }
      ]
    },
    {
      "cell_type": "code",
      "metadata": {
        "id": "VcVSR0tYlmYQ",
        "colab_type": "code",
        "colab": {
          "base_uri": "https://localhost:8080/",
          "height": 34
        },
        "outputId": "32ab6b55-39b2-4340-c9a8-b96e604339c9"
      },
      "source": [
        "dit.clear()\n",
        "\n",
        "print(dit)\n"
      ],
      "execution_count": 176,
      "outputs": [
        {
          "output_type": "stream",
          "text": [
            "{}\n"
          ],
          "name": "stdout"
        }
      ]
    },
    {
      "cell_type": "markdown",
      "metadata": {
        "id": "p_2_0QbLlu-w",
        "colab_type": "text"
      },
      "source": [
        "TUPLES AND ITS DEFAULT FUNCTIONS"
      ]
    },
    {
      "cell_type": "code",
      "metadata": {
        "id": "gaYHHpTWl19r",
        "colab_type": "code",
        "colab": {
          "base_uri": "https://localhost:8080/",
          "height": 34
        },
        "outputId": "9e8e39b2-38c9-4a5b-971c-ac9b748b86d0"
      },
      "source": [
        "tup = (\"deep\", \"pandya\", \"letsupgrade\",\"letsupgrade\")\n",
        "print(tup)"
      ],
      "execution_count": 177,
      "outputs": [
        {
          "output_type": "stream",
          "text": [
            "('deep', 'pandya', 'letsupgrade', 'letsupgrade')\n"
          ],
          "name": "stdout"
        }
      ]
    },
    {
      "cell_type": "code",
      "metadata": {
        "id": "oh56f15mmjUf",
        "colab_type": "code",
        "colab": {
          "base_uri": "https://localhost:8080/",
          "height": 34
        },
        "outputId": "87c594a8-59b1-43fc-f7e1-afaa5779b12f"
      },
      "source": [
        "x = tup.count(\"letsupgrade\")\n",
        "\n",
        "print(x)\n"
      ],
      "execution_count": 178,
      "outputs": [
        {
          "output_type": "stream",
          "text": [
            "2\n"
          ],
          "name": "stdout"
        }
      ]
    },
    {
      "cell_type": "code",
      "metadata": {
        "id": "jOs1z8kmm5gC",
        "colab_type": "code",
        "colab": {
          "base_uri": "https://localhost:8080/",
          "height": 34
        },
        "outputId": "166efc02-bb96-4e8a-cae5-fcc32aefdfdd"
      },
      "source": [
        "x = tup.index(\"letsupgrade\")\n",
        "\n",
        "print(x)"
      ],
      "execution_count": 179,
      "outputs": [
        {
          "output_type": "stream",
          "text": [
            "2\n"
          ],
          "name": "stdout"
        }
      ]
    },
    {
      "cell_type": "markdown",
      "metadata": {
        "id": "P1PIab09nZAQ",
        "colab_type": "text"
      },
      "source": [
        "SETS AND ITS DEFAULT FUNCTIONS"
      ]
    },
    {
      "cell_type": "code",
      "metadata": {
        "id": "PPM6LZjonYSd",
        "colab_type": "code",
        "colab": {
          "base_uri": "https://localhost:8080/",
          "height": 34
        },
        "outputId": "cc5d1a6c-6053-4508-c424-4d213cb5957f"
      },
      "source": [
        "st = {\"deep\", \"pandya\", \"letsupgrade\",1,1,2,3,3,3,4,4,5}\n",
        "\n",
        "print(st)"
      ],
      "execution_count": 180,
      "outputs": [
        {
          "output_type": "stream",
          "text": [
            "{'pandya', 2, 1, 3, 4, 5, 'deep', 'letsupgrade'}\n"
          ],
          "name": "stdout"
        }
      ]
    },
    {
      "cell_type": "code",
      "metadata": {
        "id": "q_hpPJ7-ofiL",
        "colab_type": "code",
        "colab": {
          "base_uri": "https://localhost:8080/",
          "height": 34
        },
        "outputId": "7823c7d5-a730-4616-f19f-fd60b508059d"
      },
      "source": [
        "st.add(\"boy\")\n",
        "\n",
        "print(st)\n"
      ],
      "execution_count": 181,
      "outputs": [
        {
          "output_type": "stream",
          "text": [
            "{'pandya', 2, 1, 3, 4, 5, 'deep', 'letsupgrade', 'boy'}\n"
          ],
          "name": "stdout"
        }
      ]
    },
    {
      "cell_type": "code",
      "metadata": {
        "id": "z6IuHlUYo389",
        "colab_type": "code",
        "colab": {
          "base_uri": "https://localhost:8080/",
          "height": 34
        },
        "outputId": "ff8fa87b-f5f3-43b6-f876-11f8653aca02"
      },
      "source": [
        "x = st.copy()\n",
        "\n",
        "print(x)"
      ],
      "execution_count": 182,
      "outputs": [
        {
          "output_type": "stream",
          "text": [
            "{'pandya', 2, 1, 3, 4, 5, 'deep', 'letsupgrade', 'boy'}\n"
          ],
          "name": "stdout"
        }
      ]
    },
    {
      "cell_type": "code",
      "metadata": {
        "id": "1fVnngdHpIFT",
        "colab_type": "code",
        "colab": {
          "base_uri": "https://localhost:8080/",
          "height": 34
        },
        "outputId": "8b88bf74-81d5-4f80-b9ef-7ff12393ea47"
      },
      "source": [
        "st1={1,33,57,77,7,7,\"python\",\"course\",\"deep\"}\n",
        "\n",
        "x = st.difference(st1)\n",
        "\n",
        "print(x)"
      ],
      "execution_count": 183,
      "outputs": [
        {
          "output_type": "stream",
          "text": [
            "{'pandya', 2, 3, 4, 5, 'letsupgrade', 'boy'}\n"
          ],
          "name": "stdout"
        }
      ]
    },
    {
      "cell_type": "code",
      "metadata": {
        "id": "KsHtxHoQpwfV",
        "colab_type": "code",
        "colab": {
          "base_uri": "https://localhost:8080/",
          "height": 34
        },
        "outputId": "4520d31a-f2a4-43c9-f7d7-0da27f0ac6a1"
      },
      "source": [
        "st.discard(\"letsupgrade\")\n",
        "\n",
        "print(st)"
      ],
      "execution_count": 184,
      "outputs": [
        {
          "output_type": "stream",
          "text": [
            "{'pandya', 2, 1, 3, 4, 5, 'deep', 'boy'}\n"
          ],
          "name": "stdout"
        }
      ]
    },
    {
      "cell_type": "code",
      "metadata": {
        "id": "44NgfPgvqQKa",
        "colab_type": "code",
        "colab": {
          "base_uri": "https://localhost:8080/",
          "height": 34
        },
        "outputId": "0751a724-9426-4015-ee46-986361b81180"
      },
      "source": [
        "z= st.intersection(st1)\n",
        "\n",
        "print(z)\n"
      ],
      "execution_count": 185,
      "outputs": [
        {
          "output_type": "stream",
          "text": [
            "{1, 'deep'}\n"
          ],
          "name": "stdout"
        }
      ]
    },
    {
      "cell_type": "code",
      "metadata": {
        "id": "6aaqB4IBqQDN",
        "colab_type": "code",
        "colab": {
          "base_uri": "https://localhost:8080/",
          "height": 34
        },
        "outputId": "52326809-00ed-488d-ac7b-50be9e1c96e7"
      },
      "source": [
        "z = st.issubset(st1)\n",
        "\n",
        "print(z)"
      ],
      "execution_count": 186,
      "outputs": [
        {
          "output_type": "stream",
          "text": [
            "False\n"
          ],
          "name": "stdout"
        }
      ]
    },
    {
      "cell_type": "code",
      "metadata": {
        "id": "OlPb6Dktq-LW",
        "colab_type": "code",
        "colab": {
          "base_uri": "https://localhost:8080/",
          "height": 34
        },
        "outputId": "e008aa10-10f6-43f0-cf0c-7c4c9689423f"
      },
      "source": [
        "st.pop()\n",
        "\n",
        "print(st)"
      ],
      "execution_count": 187,
      "outputs": [
        {
          "output_type": "stream",
          "text": [
            "{2, 1, 3, 4, 5, 'deep', 'boy'}\n"
          ],
          "name": "stdout"
        }
      ]
    },
    {
      "cell_type": "code",
      "metadata": {
        "id": "cyXdsFbTrL7j",
        "colab_type": "code",
        "colab": {
          "base_uri": "https://localhost:8080/",
          "height": 34
        },
        "outputId": "421f50ff-12b0-4451-e612-1eb3254081f6"
      },
      "source": [
        "st.remove(\"boy\")\n",
        "\n",
        "print(st)"
      ],
      "execution_count": 188,
      "outputs": [
        {
          "output_type": "stream",
          "text": [
            "{2, 1, 3, 4, 5, 'deep'}\n"
          ],
          "name": "stdout"
        }
      ]
    },
    {
      "cell_type": "code",
      "metadata": {
        "id": "4eMHle7qriAG",
        "colab_type": "code",
        "colab": {
          "base_uri": "https://localhost:8080/",
          "height": 34
        },
        "outputId": "9217e029-8742-428a-81ff-f706313246ea"
      },
      "source": [
        "z = st.issuperset(st1)\n",
        "\n",
        "print(z)"
      ],
      "execution_count": 189,
      "outputs": [
        {
          "output_type": "stream",
          "text": [
            "False\n"
          ],
          "name": "stdout"
        }
      ]
    },
    {
      "cell_type": "code",
      "metadata": {
        "id": "1Z_FMP0hrnrW",
        "colab_type": "code",
        "colab": {
          "base_uri": "https://localhost:8080/",
          "height": 34
        },
        "outputId": "739e8925-2b9f-4fa9-89c0-768ec4880e57"
      },
      "source": [
        "st.clear()\n",
        "\n",
        "print(st)"
      ],
      "execution_count": 190,
      "outputs": [
        {
          "output_type": "stream",
          "text": [
            "set()\n"
          ],
          "name": "stdout"
        }
      ]
    },
    {
      "cell_type": "markdown",
      "metadata": {
        "id": "_eRXtPP7r84c",
        "colab_type": "text"
      },
      "source": [
        "STRING AND ITS  DEFAULT FUNCTIONS"
      ]
    },
    {
      "cell_type": "code",
      "metadata": {
        "id": "pamy9-KvsFQt",
        "colab_type": "code",
        "colab": {
          "base_uri": "https://localhost:8080/",
          "height": 35
        },
        "outputId": "87f5957f-f3cb-4606-f5e8-406ad6a9f8de"
      },
      "source": [
        "str=\"deeppandya\"\n",
        "\n",
        "str"
      ],
      "execution_count": 191,
      "outputs": [
        {
          "output_type": "execute_result",
          "data": {
            "application/vnd.google.colaboratory.intrinsic+json": {
              "type": "string"
            },
            "text/plain": [
              "'deeppandya'"
            ]
          },
          "metadata": {
            "tags": []
          },
          "execution_count": 191
        }
      ]
    },
    {
      "cell_type": "code",
      "metadata": {
        "id": "fWIvPjOrv9ln",
        "colab_type": "code",
        "colab": {
          "base_uri": "https://localhost:8080/",
          "height": 34
        },
        "outputId": "4400345c-1b87-4d70-cc83-be99b7753ecc"
      },
      "source": [
        "x = str.capitalize()\n",
        "\n",
        "print (x)"
      ],
      "execution_count": 192,
      "outputs": [
        {
          "output_type": "stream",
          "text": [
            "Deeppandya\n"
          ],
          "name": "stdout"
        }
      ]
    },
    {
      "cell_type": "code",
      "metadata": {
        "id": "70NwXDU5wB1w",
        "colab_type": "code",
        "colab": {
          "base_uri": "https://localhost:8080/",
          "height": 34
        },
        "outputId": "97b6c8c9-5225-40f1-a161-99ac92886ae8"
      },
      "source": [
        "x = str.casefold()\n",
        "\n",
        "print(x)"
      ],
      "execution_count": 193,
      "outputs": [
        {
          "output_type": "stream",
          "text": [
            "deeppandya\n"
          ],
          "name": "stdout"
        }
      ]
    },
    {
      "cell_type": "code",
      "metadata": {
        "id": "ZBVKXzxvwLvT",
        "colab_type": "code",
        "colab": {
          "base_uri": "https://localhost:8080/",
          "height": 34
        },
        "outputId": "0f240a68-c26c-4728-cb9b-480618196e1a"
      },
      "source": [
        "x = str.center(20)\n",
        "\n",
        "print(x)"
      ],
      "execution_count": 194,
      "outputs": [
        {
          "output_type": "stream",
          "text": [
            "     deeppandya     \n"
          ],
          "name": "stdout"
        }
      ]
    },
    {
      "cell_type": "code",
      "metadata": {
        "id": "-b_DFR1FwWcu",
        "colab_type": "code",
        "colab": {
          "base_uri": "https://localhost:8080/",
          "height": 34
        },
        "outputId": "84d355a6-962b-43ed-8d3c-facf64d2cc69"
      },
      "source": [
        "x = str.count(\"deep\")\n",
        "\n",
        "print(x)"
      ],
      "execution_count": 195,
      "outputs": [
        {
          "output_type": "stream",
          "text": [
            "1\n"
          ],
          "name": "stdout"
        }
      ]
    },
    {
      "cell_type": "code",
      "metadata": {
        "id": "ycWLBx3Yw-rj",
        "colab_type": "code",
        "colab": {
          "base_uri": "https://localhost:8080/",
          "height": 34
        },
        "outputId": "27c59aa2-6d00-4590-fc81-e5015756189d"
      },
      "source": [
        "x = str.encode()\n",
        "\n",
        "print(x)\n"
      ],
      "execution_count": 196,
      "outputs": [
        {
          "output_type": "stream",
          "text": [
            "b'deeppandya'\n"
          ],
          "name": "stdout"
        }
      ]
    },
    {
      "cell_type": "code",
      "metadata": {
        "id": "z4rd3dRYxEBm",
        "colab_type": "code",
        "colab": {
          "base_uri": "https://localhost:8080/",
          "height": 34
        },
        "outputId": "16694a9f-809c-4a07-d379-efcfce6394e5"
      },
      "source": [
        "x = str.endswith(\"a\")\n",
        "\n",
        "print(x)"
      ],
      "execution_count": 197,
      "outputs": [
        {
          "output_type": "stream",
          "text": [
            "True\n"
          ],
          "name": "stdout"
        }
      ]
    },
    {
      "cell_type": "code",
      "metadata": {
        "id": "0-scQET_xU_t",
        "colab_type": "code",
        "colab": {
          "base_uri": "https://localhost:8080/",
          "height": 34
        },
        "outputId": "5b703b5a-2f44-443d-ff47-231dda9a6674"
      },
      "source": [
        "x = str.isalnum()\n",
        "\n",
        "print(x)\n"
      ],
      "execution_count": 198,
      "outputs": [
        {
          "output_type": "stream",
          "text": [
            "True\n"
          ],
          "name": "stdout"
        }
      ]
    },
    {
      "cell_type": "code",
      "metadata": {
        "id": "o1xC_C77xoEm",
        "colab_type": "code",
        "colab": {
          "base_uri": "https://localhost:8080/",
          "height": 34
        },
        "outputId": "09881b33-a237-486a-bb39-e7f7d64a8d59"
      },
      "source": [
        "x = str.isalpha()\n",
        "\n",
        "print(x)"
      ],
      "execution_count": 199,
      "outputs": [
        {
          "output_type": "stream",
          "text": [
            "True\n"
          ],
          "name": "stdout"
        }
      ]
    },
    {
      "cell_type": "code",
      "metadata": {
        "id": "8F6rA8KOx5G4",
        "colab_type": "code",
        "colab": {
          "base_uri": "https://localhost:8080/",
          "height": 34
        },
        "outputId": "7f34ccf0-25ce-4ec0-dbef-71b0ada4118e"
      },
      "source": [
        "x = str.isdecimal()\n",
        "\n",
        "print(x)"
      ],
      "execution_count": 200,
      "outputs": [
        {
          "output_type": "stream",
          "text": [
            "False\n"
          ],
          "name": "stdout"
        }
      ]
    },
    {
      "cell_type": "code",
      "metadata": {
        "id": "94Hpx7bhyHNK",
        "colab_type": "code",
        "colab": {
          "base_uri": "https://localhost:8080/",
          "height": 34
        },
        "outputId": "97cd6add-8bc4-4153-92a6-3c739a2789fa"
      },
      "source": [
        "x= str.isdigit()\n",
        "\n",
        "print(x)"
      ],
      "execution_count": 201,
      "outputs": [
        {
          "output_type": "stream",
          "text": [
            "False\n"
          ],
          "name": "stdout"
        }
      ]
    },
    {
      "cell_type": "code",
      "metadata": {
        "id": "AgBD48a_yUoO",
        "colab_type": "code",
        "colab": {
          "base_uri": "https://localhost:8080/",
          "height": 34
        },
        "outputId": "44b29c6e-d6f3-40fe-e787-42fbafda922f"
      },
      "source": [
        "x = str.upper()\n",
        "\n",
        "print(x)\n"
      ],
      "execution_count": 202,
      "outputs": [
        {
          "output_type": "stream",
          "text": [
            "DEEPPANDYA\n"
          ],
          "name": "stdout"
        }
      ]
    }
  ]
}