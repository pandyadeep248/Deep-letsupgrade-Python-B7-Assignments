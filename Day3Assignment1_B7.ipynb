{
  "nbformat": 4,
  "nbformat_minor": 0,
  "metadata": {
    "colab": {
      "name": "Day3Assignment1-B7.ipynb",
      "provenance": [],
      "authorship_tag": "ABX9TyM+kDphl2mxwSWrOv1tPcBV",
      "include_colab_link": true
    },
    "kernelspec": {
      "name": "python3",
      "display_name": "Python 3"
    }
  },
  "cells": [
    {
      "cell_type": "markdown",
      "metadata": {
        "id": "view-in-github",
        "colab_type": "text"
      },
      "source": [
        "<a href=\"https://colab.research.google.com/github/pandyadeep248/Deep-letsupgrade-Python-B7-Assignments/blob/master/Day3Assignment1_B7.ipynb\" target=\"_parent\"><img src=\"https://colab.research.google.com/assets/colab-badge.svg\" alt=\"Open In Colab\"/></a>"
      ]
    },
    {
      "cell_type": "code",
      "metadata": {
        "id": "nJWcvB2Y5343",
        "colab_type": "code",
        "colab": {
          "base_uri": "https://localhost:8080/",
          "height": 68
        },
        "outputId": "06537753-a2de-4c59-b9cf-8195bb0725b5"
      },
      "source": [
        "alt=int(input(\"Enter the Altitude-\\n\"))\n",
        "\n",
        "if alt<=1000:\n",
        "    print(\"Safe to Land\")\n",
        "elif  1000<alt<=5000:\n",
        "    print(\"Bring down to 1000\")\n",
        "else:\n",
        "    print(\"Turn Around\")\n"
      ],
      "execution_count": 16,
      "outputs": [
        {
          "output_type": "stream",
          "text": [
            "Enter the Altitude-\n",
            "5000\n",
            "Bring down to 1000\n"
          ],
          "name": "stdout"
        }
      ]
    }
  ]
}