{
  "nbformat": 4,
  "nbformat_minor": 0,
  "metadata": {
    "colab": {
      "name": "Day9Assignment-B7.ipynb",
      "provenance": [],
      "authorship_tag": "ABX9TyNgsOI0peejQoQhlYw2tmtY",
      "include_colab_link": true
    },
    "kernelspec": {
      "name": "python3",
      "display_name": "Python 3"
    }
  },
  "cells": [
    {
      "cell_type": "markdown",
      "metadata": {
        "id": "view-in-github",
        "colab_type": "text"
      },
      "source": [
        "<a href=\"https://colab.research.google.com/github/pandyadeep248/Deep-letsupgrade-Python-B7-Assignments/blob/master/Day9Assignment_B7.ipynb\" target=\"_parent\"><img src=\"https://colab.research.google.com/assets/colab-badge.svg\" alt=\"Open In Colab\"/></a>"
      ]
    },
    {
      "cell_type": "markdown",
      "metadata": {
        "id": "eUsdpN46qpiE",
        "colab_type": "text"
      },
      "source": [
        "DAY 9 - ASSIGNMENT 1 - PYLINT AND UNITTEST"
      ]
    },
    {
      "cell_type": "markdown",
      "metadata": {
        "id": "M1uB3yFzrE2M",
        "colab_type": "text"
      },
      "source": [
        "PYLINT"
      ]
    },
    {
      "cell_type": "code",
      "metadata": {
        "id": "bnJ2mk5WsEmA",
        "colab_type": "code",
        "colab": {
          "base_uri": "https://localhost:8080/",
          "height": 190
        },
        "outputId": "c74132be-ec40-4c2a-cf9a-22bf81ca0db6"
      },
      "source": [
        "! pip install pylint"
      ],
      "execution_count": 30,
      "outputs": [
        {
          "output_type": "stream",
          "text": [
            "Requirement already satisfied: pylint in /usr/local/lib/python3.6/dist-packages (2.6.0)\n",
            "Requirement already satisfied: astroid<=2.5,>=2.4.0 in /usr/local/lib/python3.6/dist-packages (from pylint) (2.4.2)\n",
            "Requirement already satisfied: isort<6,>=4.2.5 in /usr/local/lib/python3.6/dist-packages (from pylint) (5.5.2)\n",
            "Requirement already satisfied: toml>=0.7.1 in /usr/local/lib/python3.6/dist-packages (from pylint) (0.10.1)\n",
            "Requirement already satisfied: mccabe<0.7,>=0.6 in /usr/local/lib/python3.6/dist-packages (from pylint) (0.6.1)\n",
            "Requirement already satisfied: typed-ast<1.5,>=1.4.0; implementation_name == \"cpython\" and python_version < \"3.8\" in /usr/local/lib/python3.6/dist-packages (from astroid<=2.5,>=2.4.0->pylint) (1.4.1)\n",
            "Requirement already satisfied: six~=1.12 in /usr/local/lib/python3.6/dist-packages (from astroid<=2.5,>=2.4.0->pylint) (1.15.0)\n",
            "Requirement already satisfied: wrapt~=1.11 in /usr/local/lib/python3.6/dist-packages (from astroid<=2.5,>=2.4.0->pylint) (1.12.1)\n",
            "Requirement already satisfied: lazy-object-proxy==1.4.* in /usr/local/lib/python3.6/dist-packages (from astroid<=2.5,>=2.4.0->pylint) (1.4.3)\n"
          ],
          "name": "stdout"
        }
      ]
    },
    {
      "cell_type": "code",
      "metadata": {
        "id": "TVq7rGDwpc3p",
        "colab_type": "code",
        "colab": {
          "base_uri": "https://localhost:8080/",
          "height": 34
        },
        "outputId": "46e35485-a0dc-41fc-a9e1-72fae149a7b3"
      },
      "source": [
        "%%writefile prime_num.py\n",
        "'''\n",
        "Checking the value is Prime Number or not\n",
        "'''\n",
        "def primenumber(num):\n",
        "    '''\n",
        "    Passing a value to check it is prime or not\n",
        "    '''\n",
        "    if num > 1:\n",
        "        for i in range(2, num):\n",
        "            if(num % i) == 0:\n",
        "                print(num, \"is not a prime number\")\n",
        "            else:\n",
        "                print(num, \"is a prime number\")\n",
        "primenumber(56)\n",
        "\n"
      ],
      "execution_count": 31,
      "outputs": [
        {
          "output_type": "stream",
          "text": [
            "Overwriting prime_num.py\n"
          ],
          "name": "stdout"
        }
      ]
    },
    {
      "cell_type": "code",
      "metadata": {
        "id": "nWI7LsnNryy7",
        "colab_type": "code",
        "colab": {
          "base_uri": "https://localhost:8080/",
          "height": 85
        },
        "outputId": "ad529bb2-5f4b-4be4-ee8f-f48aebe0a2d8"
      },
      "source": [
        "! pylint \"prime_num.py\""
      ],
      "execution_count": 32,
      "outputs": [
        {
          "output_type": "stream",
          "text": [
            "\n",
            "--------------------------------------------------------------------\n",
            "Your code has been rated at 10.00/10 (previous run: 10.00/10, +0.00)\n",
            "\n"
          ],
          "name": "stdout"
        }
      ]
    },
    {
      "cell_type": "markdown",
      "metadata": {
        "id": "YHF-d3CIs09g",
        "colab_type": "text"
      },
      "source": [
        "UNITTEST"
      ]
    },
    {
      "cell_type": "code",
      "metadata": {
        "id": "rDED8q4HsvFi",
        "colab_type": "code",
        "colab": {
          "base_uri": "https://localhost:8080/",
          "height": 34
        },
        "outputId": "aae878ed-54d9-4079-fdb7-c9a9b9a26f3f"
      },
      "source": [
        "%%writefile prime_num.py\n",
        "\n",
        "def primenum(num):\n",
        "    if num > 1:\n",
        "        for i in range(2, num):\n",
        "            if(num % i) == 0:\n",
        "                return False\n",
        "            return True"
      ],
      "execution_count": 33,
      "outputs": [
        {
          "output_type": "stream",
          "text": [
            "Overwriting prime_num.py\n"
          ],
          "name": "stdout"
        }
      ]
    },
    {
      "cell_type": "code",
      "metadata": {
        "id": "B2n-H01Zs9LQ",
        "colab_type": "code",
        "colab": {
          "base_uri": "https://localhost:8080/",
          "height": 34
        },
        "outputId": "82cac009-c1a5-4d0d-fce7-34d9bda0b307"
      },
      "source": [
        "import prime_num\n",
        "prime_num.primenum(5)"
      ],
      "execution_count": 34,
      "outputs": [
        {
          "output_type": "execute_result",
          "data": {
            "text/plain": [
              "True"
            ]
          },
          "metadata": {
            "tags": []
          },
          "execution_count": 34
        }
      ]
    },
    {
      "cell_type": "code",
      "metadata": {
        "id": "qLd8voPFtC9s",
        "colab_type": "code",
        "colab": {
          "base_uri": "https://localhost:8080/",
          "height": 34
        },
        "outputId": "6595e357-a64f-4871-addb-c5c269e2ffce"
      },
      "source": [
        "%%writefile checkprime.py\n",
        "\n",
        "import unittest\n",
        "import prime_num\n",
        "\n",
        "class primevalue(unittest.TestCase):\n",
        "    def testprime(self):\n",
        "        num = 56\n",
        "        result = prime_num.primenum(num) \n",
        "        self. assertEqual(result, False)\n",
        "            \n",
        "    def testprimenum(self):\n",
        "        Num = 109\n",
        "        res = prime_num.primenum(Num)\n",
        "        self.assertEqual(res, True)\n",
        "\n",
        "if __name__ == \"__main__\" :\n",
        "    unittest.main()"
      ],
      "execution_count": 35,
      "outputs": [
        {
          "output_type": "stream",
          "text": [
            "Overwriting checkprime.py\n"
          ],
          "name": "stdout"
        }
      ]
    },
    {
      "cell_type": "code",
      "metadata": {
        "id": "MHrYcil3tGxk",
        "colab_type": "code",
        "colab": {
          "base_uri": "https://localhost:8080/",
          "height": 102
        },
        "outputId": "7920dba3-caa8-4865-d7c0-27d019586a33"
      },
      "source": [
        "! python checkprime.py"
      ],
      "execution_count": 36,
      "outputs": [
        {
          "output_type": "stream",
          "text": [
            "..\n",
            "----------------------------------------------------------------------\n",
            "Ran 2 tests in 0.000s\n",
            "\n",
            "OK\n"
          ],
          "name": "stdout"
        }
      ]
    },
    {
      "cell_type": "markdown",
      "metadata": {
        "id": "f-ni64YYuHSL",
        "colab_type": "text"
      },
      "source": [
        "DAY 9 - ASSIGNMENT 2 - ARMSTRONG NUMBER - GENERATORS"
      ]
    },
    {
      "cell_type": "code",
      "metadata": {
        "id": "TbFfTx7SuABX",
        "colab_type": "code",
        "colab": {}
      },
      "source": [
        "lst = list(range(1,1000))"
      ],
      "execution_count": 37,
      "outputs": []
    },
    {
      "cell_type": "code",
      "metadata": {
        "id": "WYUucqv6uGL-",
        "colab_type": "code",
        "colab": {}
      },
      "source": [
        "def getArmstrongnumGen(lst):\n",
        "    for num in lst:\n",
        "        \n",
        "        order = len(str(num))\n",
        "    \n",
        "    \n",
        "        sum = 0\n",
        "\n",
        "        temp = num\n",
        "        while temp > 0:\n",
        "            digit = temp % 10\n",
        "            sum += digit ** order\n",
        "            temp //= 10\n",
        "\n",
        "        if num == sum:\n",
        "            yield num\n"
      ],
      "execution_count": 38,
      "outputs": []
    },
    {
      "cell_type": "code",
      "metadata": {
        "id": "WWoP1FpzuPns",
        "colab_type": "code",
        "colab": {
          "base_uri": "https://localhost:8080/",
          "height": 34
        },
        "outputId": "69c1908c-994b-4bc8-a6d0-ce5c27803c45"
      },
      "source": [
        "print(list(getArmstrongnumGen(lst)))\n"
      ],
      "execution_count": 39,
      "outputs": [
        {
          "output_type": "stream",
          "text": [
            "[1, 2, 3, 4, 5, 6, 7, 8, 9, 153, 370, 371, 407]\n"
          ],
          "name": "stdout"
        }
      ]
    }
  ]
}