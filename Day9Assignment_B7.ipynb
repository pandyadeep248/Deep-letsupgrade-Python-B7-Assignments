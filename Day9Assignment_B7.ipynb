{
  "nbformat": 4,
  "nbformat_minor": 0,
  "metadata": {
    "colab": {
      "name": "Day9Assignment-B7.ipynb",
      "provenance": [],
      "authorship_tag": "ABX9TyP9cbt3GULh+P0y6ISVKJBE",
      "include_colab_link": true
    },
    "kernelspec": {
      "name": "python3",
      "display_name": "Python 3"
    }
  },
  "cells": [
    {
      "cell_type": "markdown",
      "metadata": {
        "id": "view-in-github",
        "colab_type": "text"
      },
      "source": [
        "<a href=\"https://colab.research.google.com/github/pandyadeep248/Deep-letsupgrade-Python-B7-Assignments/blob/master/Day9Assignment_B7.ipynb\" target=\"_parent\"><img src=\"https://colab.research.google.com/assets/colab-badge.svg\" alt=\"Open In Colab\"/></a>"
      ]
    },
    {
      "cell_type": "markdown",
      "metadata": {
        "id": "eUsdpN46qpiE",
        "colab_type": "text"
      },
      "source": [
        "DAY 9 - ASSIGNMENT 1 - PYLINT AND UNITTEST"
      ]
    },
    {
      "cell_type": "markdown",
      "metadata": {
        "id": "M1uB3yFzrE2M",
        "colab_type": "text"
      },
      "source": [
        "PYLINT"
      ]
    },
    {
      "cell_type": "code",
      "metadata": {
        "id": "bnJ2mk5WsEmA",
        "colab_type": "code",
        "colab": {
          "base_uri": "https://localhost:8080/",
          "height": 411
        },
        "outputId": "b4fdb822-e707-46db-abf0-27e94ea70c72"
      },
      "source": [
        "! pip install pylint"
      ],
      "execution_count": 3,
      "outputs": [
        {
          "output_type": "stream",
          "text": [
            "Collecting pylint\n",
            "\u001b[?25l  Downloading https://files.pythonhosted.org/packages/fb/13/519c1264a134beab2be4bac8dd3e64948980a5ca7833b31cf0255b21f20a/pylint-2.6.0-py3-none-any.whl (325kB)\n",
            "\u001b[K     |████████████████████████████████| 327kB 2.6MB/s \n",
            "\u001b[?25hCollecting astroid<=2.5,>=2.4.0\n",
            "\u001b[?25l  Downloading https://files.pythonhosted.org/packages/24/a8/5133f51967fb21e46ee50831c3f5dda49e976b7f915408d670b1603d41d6/astroid-2.4.2-py3-none-any.whl (213kB)\n",
            "\u001b[K     |████████████████████████████████| 215kB 8.3MB/s \n",
            "\u001b[?25hCollecting isort<6,>=4.2.5\n",
            "\u001b[?25l  Downloading https://files.pythonhosted.org/packages/d1/25/7ed95ccb07d3ce52598f5a57d002da6a18074ea8749991b10936cc20e539/isort-5.5.2-py3-none-any.whl (95kB)\n",
            "\u001b[K     |████████████████████████████████| 102kB 7.0MB/s \n",
            "\u001b[?25hCollecting mccabe<0.7,>=0.6\n",
            "  Downloading https://files.pythonhosted.org/packages/87/89/479dc97e18549e21354893e4ee4ef36db1d237534982482c3681ee6e7b57/mccabe-0.6.1-py2.py3-none-any.whl\n",
            "Requirement already satisfied: toml>=0.7.1 in /usr/local/lib/python3.6/dist-packages (from pylint) (0.10.1)\n",
            "Requirement already satisfied: six~=1.12 in /usr/local/lib/python3.6/dist-packages (from astroid<=2.5,>=2.4.0->pylint) (1.15.0)\n",
            "Collecting typed-ast<1.5,>=1.4.0; implementation_name == \"cpython\" and python_version < \"3.8\"\n",
            "\u001b[?25l  Downloading https://files.pythonhosted.org/packages/90/ed/5459080d95eb87a02fe860d447197be63b6e2b5e9ff73c2b0a85622994f4/typed_ast-1.4.1-cp36-cp36m-manylinux1_x86_64.whl (737kB)\n",
            "\u001b[K     |████████████████████████████████| 747kB 7.6MB/s \n",
            "\u001b[?25hRequirement already satisfied: wrapt~=1.11 in /usr/local/lib/python3.6/dist-packages (from astroid<=2.5,>=2.4.0->pylint) (1.12.1)\n",
            "Collecting lazy-object-proxy==1.4.*\n",
            "\u001b[?25l  Downloading https://files.pythonhosted.org/packages/0b/dd/b1e3407e9e6913cf178e506cd0dee818e58694d9a5cd1984e3f6a8b9a10f/lazy_object_proxy-1.4.3-cp36-cp36m-manylinux1_x86_64.whl (55kB)\n",
            "\u001b[K     |████████████████████████████████| 61kB 7.8MB/s \n",
            "\u001b[?25hInstalling collected packages: typed-ast, lazy-object-proxy, astroid, isort, mccabe, pylint\n",
            "Successfully installed astroid-2.4.2 isort-5.5.2 lazy-object-proxy-1.4.3 mccabe-0.6.1 pylint-2.6.0 typed-ast-1.4.1\n"
          ],
          "name": "stdout"
        }
      ]
    },
    {
      "cell_type": "code",
      "metadata": {
        "id": "TVq7rGDwpc3p",
        "colab_type": "code",
        "colab": {
          "base_uri": "https://localhost:8080/",
          "height": 34
        },
        "outputId": "9cdbc6bd-b158-4796-9f5b-62cf40bc20f4"
      },
      "source": [
        "%%writefile prime_num.py\n",
        "'''\n",
        "Checking the value is Prime Number or not\n",
        "'''\n",
        "def primenumber(num):\n",
        "    '''\n",
        "    Passing a value to check it is prime or not\n",
        "    '''\n",
        "    if num > 1:\n",
        "        for i in range(2, num):\n",
        "            if(num % i) == 0:\n",
        "                print(num, \"is not a prime number\")\n",
        "            else:\n",
        "                print(num, \"is a prime number\")\n",
        "primenumber(56)\n",
        "\n"
      ],
      "execution_count": 28,
      "outputs": [
        {
          "output_type": "stream",
          "text": [
            "Overwriting prime_num.py\n"
          ],
          "name": "stdout"
        }
      ]
    },
    {
      "cell_type": "code",
      "metadata": {
        "id": "nWI7LsnNryy7",
        "colab_type": "code",
        "colab": {
          "base_uri": "https://localhost:8080/",
          "height": 85
        },
        "outputId": "23189af2-f3bf-442c-a78b-4eb5b98e66e6"
      },
      "source": [
        "! pylint \"prime_num.py\""
      ],
      "execution_count": 29,
      "outputs": [
        {
          "output_type": "stream",
          "text": [
            "\n",
            "-------------------------------------------------------------------\n",
            "Your code has been rated at 10.00/10 (previous run: 8.57/10, +1.43)\n",
            "\n"
          ],
          "name": "stdout"
        }
      ]
    },
    {
      "cell_type": "markdown",
      "metadata": {
        "id": "YHF-d3CIs09g",
        "colab_type": "text"
      },
      "source": [
        "UNITTEST"
      ]
    },
    {
      "cell_type": "code",
      "metadata": {
        "id": "rDED8q4HsvFi",
        "colab_type": "code",
        "colab": {
          "base_uri": "https://localhost:8080/",
          "height": 34
        },
        "outputId": "e15cc6e8-c18a-4847-851c-5b0b0968c632"
      },
      "source": [
        "%%writefile prime_num.py\n",
        "\n",
        "def primenum(num):\n",
        "    if num > 1:\n",
        "        for i in range(2, num):\n",
        "            if(num % i) == 0:\n",
        "                return False\n",
        "            return True"
      ],
      "execution_count": 6,
      "outputs": [
        {
          "output_type": "stream",
          "text": [
            "Overwriting prime_num.py\n"
          ],
          "name": "stdout"
        }
      ]
    },
    {
      "cell_type": "code",
      "metadata": {
        "id": "B2n-H01Zs9LQ",
        "colab_type": "code",
        "colab": {
          "base_uri": "https://localhost:8080/",
          "height": 34
        },
        "outputId": "b0ae0a21-2677-40de-ceb0-e7cc57d00887"
      },
      "source": [
        "import prime_num\n",
        "prime_num.primenum(5)"
      ],
      "execution_count": 7,
      "outputs": [
        {
          "output_type": "execute_result",
          "data": {
            "text/plain": [
              "True"
            ]
          },
          "metadata": {
            "tags": []
          },
          "execution_count": 7
        }
      ]
    },
    {
      "cell_type": "code",
      "metadata": {
        "id": "qLd8voPFtC9s",
        "colab_type": "code",
        "colab": {
          "base_uri": "https://localhost:8080/",
          "height": 34
        },
        "outputId": "71fb4bd7-8efc-421a-ec36-33a7d95fc7a5"
      },
      "source": [
        "%%writefile checkprime.py\n",
        "\n",
        "import unittest\n",
        "import prime_num\n",
        "\n",
        "class primevalue(unittest.TestCase):\n",
        "    def testprime(self):\n",
        "        num = 56\n",
        "        result = prime_num.primenum(num) \n",
        "        self. assertEqual(result, False)\n",
        "            \n",
        "    def testprimenum(self):\n",
        "        Num = 109\n",
        "        res = prime_num.primenum(Num)\n",
        "        self.assertEqual(res, True)\n",
        "\n",
        "if __name__ == \"__main__\" :\n",
        "    unittest.main()"
      ],
      "execution_count": 8,
      "outputs": [
        {
          "output_type": "stream",
          "text": [
            "Writing checkprime.py\n"
          ],
          "name": "stdout"
        }
      ]
    },
    {
      "cell_type": "code",
      "metadata": {
        "id": "MHrYcil3tGxk",
        "colab_type": "code",
        "colab": {
          "base_uri": "https://localhost:8080/",
          "height": 102
        },
        "outputId": "5d65e0ed-da4a-4778-9d30-b3ccaeec5e3d"
      },
      "source": [
        "! python checkprime.py"
      ],
      "execution_count": 9,
      "outputs": [
        {
          "output_type": "stream",
          "text": [
            "..\n",
            "----------------------------------------------------------------------\n",
            "Ran 2 tests in 0.000s\n",
            "\n",
            "OK\n"
          ],
          "name": "stdout"
        }
      ]
    },
    {
      "cell_type": "markdown",
      "metadata": {
        "id": "f-ni64YYuHSL",
        "colab_type": "text"
      },
      "source": [
        "ARMSTRONG NUMBER - GENERATORS"
      ]
    },
    {
      "cell_type": "code",
      "metadata": {
        "id": "TbFfTx7SuABX",
        "colab_type": "code",
        "colab": {}
      },
      "source": [
        "lst = list(range(1,1000))"
      ],
      "execution_count": 18,
      "outputs": []
    },
    {
      "cell_type": "code",
      "metadata": {
        "id": "WYUucqv6uGL-",
        "colab_type": "code",
        "colab": {}
      },
      "source": [
        "def getArmstrongnumGen(lst):\n",
        "    for num in lst:\n",
        "        \n",
        "        order = len(str(num))\n",
        "    \n",
        "    \n",
        "        sum = 0\n",
        "\n",
        "        temp = num\n",
        "        while temp > 0:\n",
        "            digit = temp % 10\n",
        "            sum += digit ** order\n",
        "            temp //= 10\n",
        "\n",
        "        if num == sum:\n",
        "            yield num\n"
      ],
      "execution_count": 19,
      "outputs": []
    },
    {
      "cell_type": "code",
      "metadata": {
        "id": "WWoP1FpzuPns",
        "colab_type": "code",
        "colab": {
          "base_uri": "https://localhost:8080/",
          "height": 34
        },
        "outputId": "528f86ee-ac50-432a-f8fb-811a5bb2f93a"
      },
      "source": [
        "print(list(getArmstrongnumGen(lst)))\n"
      ],
      "execution_count": 20,
      "outputs": [
        {
          "output_type": "stream",
          "text": [
            "[1, 2, 3, 4, 5, 6, 7, 8, 9, 153, 370, 371, 407]\n"
          ],
          "name": "stdout"
        }
      ]
    }
  ]
}