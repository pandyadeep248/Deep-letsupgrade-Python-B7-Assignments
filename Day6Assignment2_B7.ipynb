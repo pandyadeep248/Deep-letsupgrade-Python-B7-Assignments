{
  "nbformat": 4,
  "nbformat_minor": 0,
  "metadata": {
    "colab": {
      "name": "Day6Assignment2-B7.ipynb",
      "provenance": [],
      "authorship_tag": "ABX9TyOdgRlTKPyTLXfp33jMTviN",
      "include_colab_link": true
    },
    "kernelspec": {
      "name": "python3",
      "display_name": "Python 3"
    }
  },
  "cells": [
    {
      "cell_type": "markdown",
      "metadata": {
        "id": "view-in-github",
        "colab_type": "text"
      },
      "source": [
        "<a href=\"https://colab.research.google.com/github/pandyadeep248/Deep-letsupgrade-Python-B7-Assignments/blob/master/Day6Assignment2_B7.ipynb\" target=\"_parent\"><img src=\"https://colab.research.google.com/assets/colab-badge.svg\" alt=\"Open In Colab\"/></a>"
      ]
    },
    {
      "cell_type": "markdown",
      "metadata": {
        "id": "poTvHrKEWLMR",
        "colab_type": "text"
      },
      "source": [
        "DAY 6 - ASSIGNMENT 2"
      ]
    },
    {
      "cell_type": "code",
      "metadata": {
        "id": "mz7Yh4qyWBl5",
        "colab_type": "code",
        "colab": {}
      },
      "source": [
        "from math import pi\n",
        "from math import sqrt\n",
        "\n",
        "class cone:\n",
        "    \n",
        "    def __init__(self,radius=1.0,height=1.0):\n",
        "        self.radius = radius\n",
        "        self.height = height\n",
        "        \n",
        "    def __str__(self):\n",
        "        return 'the radius is:{radius}\\n and height is:{height} '.format(radius=self.radius,height=self.height)\n",
        "    \n",
        "    def __repr__(self):\n",
        "        return 'circle(radius={})'.format(self.radius)\n",
        "        return 'height(height={})'.format(self.height)\n",
        "    \n",
        "    def getVol(self):\n",
        "        vol= self.radius*self.radius*pi*self.height*1/3\n",
        "        print  (vol)  \n",
        "            \n",
        "    def getSurArea(self):\n",
        "        side = sqrt(self.radius*self.radius+self.height*self.height)\n",
        "        surArea = pi * self.radius * self.radius + pi * side* self.radius\n",
        "        print (surArea)\n"
      ],
      "execution_count": 5,
      "outputs": []
    },
    {
      "cell_type": "code",
      "metadata": {
        "id": "ZvHkxpirW73h",
        "colab_type": "code",
        "colab": {}
      },
      "source": [
        "Area=cone(9,4)"
      ],
      "execution_count": 6,
      "outputs": []
    },
    {
      "cell_type": "code",
      "metadata": {
        "id": "BNZWIypbXFoA",
        "colab_type": "code",
        "colab": {
          "base_uri": "https://localhost:8080/",
          "height": 34
        },
        "outputId": "5ba97e72-7aeb-4a99-bdd8-79b9b52814f2"
      },
      "source": [
        "Area.getSurArea()"
      ],
      "execution_count": 7,
      "outputs": [
        {
          "output_type": "stream",
          "text": [
            "532.9388987881316\n"
          ],
          "name": "stdout"
        }
      ]
    },
    {
      "cell_type": "code",
      "metadata": {
        "id": "pdLWG7o4XK9q",
        "colab_type": "code",
        "colab": {
          "base_uri": "https://localhost:8080/",
          "height": 34
        },
        "outputId": "aad6244c-33ec-4028-e162-1b5bf22b3ee4"
      },
      "source": [
        "Area.getVol()"
      ],
      "execution_count": 8,
      "outputs": [
        {
          "output_type": "stream",
          "text": [
            "339.29200658769764\n"
          ],
          "name": "stdout"
        }
      ]
    }
  ]
}