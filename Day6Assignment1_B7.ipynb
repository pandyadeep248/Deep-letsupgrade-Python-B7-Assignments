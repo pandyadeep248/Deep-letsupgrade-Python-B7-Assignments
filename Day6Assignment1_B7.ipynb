{
  "nbformat": 4,
  "nbformat_minor": 0,
  "metadata": {
    "colab": {
      "name": "Day6Assignment1-B7.ipynb",
      "provenance": [],
      "authorship_tag": "ABX9TyN1CADEQKXU1ZOBN7/wnRWL",
      "include_colab_link": true
    },
    "kernelspec": {
      "name": "python3",
      "display_name": "Python 3"
    }
  },
  "cells": [
    {
      "cell_type": "markdown",
      "metadata": {
        "id": "view-in-github",
        "colab_type": "text"
      },
      "source": [
        "<a href=\"https://colab.research.google.com/github/pandyadeep248/Deep-letsupgrade-Python-B7-Assignments/blob/master/Day6Assignment1_B7.ipynb\" target=\"_parent\"><img src=\"https://colab.research.google.com/assets/colab-badge.svg\" alt=\"Open In Colab\"/></a>"
      ]
    },
    {
      "cell_type": "markdown",
      "metadata": {
        "id": "Cc-esOOMRIRs",
        "colab_type": "text"
      },
      "source": [
        "DAY 6 - ASSIGNMENT 1"
      ]
    },
    {
      "cell_type": "code",
      "metadata": {
        "id": "8hbp9HXRRApR",
        "colab_type": "code",
        "colab": {}
      },
      "source": [
        "class Account:\n",
        "    def __init__(self,owner,balance):\n",
        "        self.owner = owner\n",
        "        self.balance = balance\n",
        "    def __str__(self):\n",
        "        return 'Account owner:{owner}\\nAccount balance:{balance}'.format(owner=self.owner,balance=self.balance)\n",
        "    \n",
        "    def deposit(self,dp_money):\n",
        "        self.balance += dp_money\n",
        "        print('Deposit has been accepted,Your current balance is {balance}'.format(balance=self.balance))\n",
        "        \n",
        "    def withdraw(self,wd_money):\n",
        "        if wd_money > self.balance:\n",
        "            print(\"Sorry,Funds unavailable!\")\n",
        "        else:\n",
        "            self.balance -= wd_money\n",
        "            print('Withdrawal has been accepted, Your current balance is {balance}'.format(balance=self.balance))\n"
      ],
      "execution_count": 10,
      "outputs": []
    },
    {
      "cell_type": "code",
      "metadata": {
        "id": "akz0q1X6THyl",
        "colab_type": "code",
        "colab": {}
      },
      "source": [
        "acc1 = Account(\"Deep\",10000)"
      ],
      "execution_count": 11,
      "outputs": []
    },
    {
      "cell_type": "code",
      "metadata": {
        "id": "VqqPUDpcTNzh",
        "colab_type": "code",
        "colab": {
          "base_uri": "https://localhost:8080/",
          "height": 51
        },
        "outputId": "3cc2c988-2eda-4df5-ca56-63b0f803d5e3"
      },
      "source": [
        "acc1.deposit(1000)\n",
        "acc1.withdraw(500)"
      ],
      "execution_count": 12,
      "outputs": [
        {
          "output_type": "stream",
          "text": [
            "Deposit has been accepted,Your current balance is 11000\n",
            "Withdrawal has been accepted, Your current balance is 10500\n"
          ],
          "name": "stdout"
        }
      ]
    },
    {
      "cell_type": "code",
      "metadata": {
        "id": "P2umE9nQUOk3",
        "colab_type": "code",
        "colab": {
          "base_uri": "https://localhost:8080/",
          "height": 51
        },
        "outputId": "42cff050-d8fb-430c-90c8-5e75510cb476"
      },
      "source": [
        "acc1.deposit(0)\n",
        "acc1.withdraw(11000)\n"
      ],
      "execution_count": 13,
      "outputs": [
        {
          "output_type": "stream",
          "text": [
            "Deposit has been accepted,Your current balance is 10500\n",
            "Sorry,Funds unavailable!\n"
          ],
          "name": "stdout"
        }
      ]
    }
  ]
}