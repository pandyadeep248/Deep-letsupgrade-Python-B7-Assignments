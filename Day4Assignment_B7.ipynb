{
  "nbformat": 4,
  "nbformat_minor": 0,
  "metadata": {
    "colab": {
      "name": "Day4Assignment-B7.ipynb",
      "provenance": [],
      "collapsed_sections": [],
      "authorship_tag": "ABX9TyOqC5hrQVJki1GJrWbyhhhr",
      "include_colab_link": true
    },
    "kernelspec": {
      "name": "python3",
      "display_name": "Python 3"
    }
  },
  "cells": [
    {
      "cell_type": "markdown",
      "metadata": {
        "id": "view-in-github",
        "colab_type": "text"
      },
      "source": [
        "<a href=\"https://colab.research.google.com/github/pandyadeep248/Deep-letsupgrade-Python-B7-Assignments/blob/master/Day4Assignment_B7.ipynb\" target=\"_parent\"><img src=\"https://colab.research.google.com/assets/colab-badge.svg\" alt=\"Open In Colab\"/></a>"
      ]
    },
    {
      "cell_type": "markdown",
      "metadata": {
        "id": "2MTkSWcisDV6",
        "colab_type": "text"
      },
      "source": [
        "ARMSTRONG NUMBER\n"
      ]
    },
    {
      "cell_type": "code",
      "metadata": {
        "id": "l1dx7SpOr7_T",
        "colab_type": "code",
        "colab": {
          "base_uri": "https://localhost:8080/",
          "height": 51
        },
        "outputId": "b7d74c0f-dab3-4c66-b270-622f8cdaf8e5"
      },
      "source": [
        "a = 1042000\n",
        "b = 702648265\n",
        "for num in range(a , b):\n",
        "    order = len(str(num))\n",
        "    \n",
        "    \n",
        "    sum = 0\n",
        "    temp = num\n",
        "    while temp > 0:\n",
        "        digit = temp % 10\n",
        "        sum += digit ** order\n",
        "        temp //= 10\n",
        "    if num == sum:\n",
        "        print(\"\")\n",
        "        print(\"The first Armstrong Number is-\",num)\n",
        "        \n",
        "        break\n",
        "        range(stop)"
      ],
      "execution_count": 2,
      "outputs": [
        {
          "output_type": "stream",
          "text": [
            "\n",
            "The first Armstrong Number is- 1741725\n"
          ],
          "name": "stdout"
        }
      ]
    }
  ]
}