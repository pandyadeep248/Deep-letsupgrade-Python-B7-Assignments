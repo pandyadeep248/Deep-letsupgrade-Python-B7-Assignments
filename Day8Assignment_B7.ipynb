{
  "nbformat": 4,
  "nbformat_minor": 0,
  "metadata": {
    "colab": {
      "name": "Day8Assignment-B7.ipynb",
      "provenance": [],
      "authorship_tag": "ABX9TyN5ZRgrt4gCO8OnC64KgjA1",
      "include_colab_link": true
    },
    "kernelspec": {
      "name": "python3",
      "display_name": "Python 3"
    }
  },
  "cells": [
    {
      "cell_type": "markdown",
      "metadata": {
        "id": "view-in-github",
        "colab_type": "text"
      },
      "source": [
        "<a href=\"https://colab.research.google.com/github/pandyadeep248/Deep-letsupgrade-Python-B7-Assignments/blob/master/Day8Assignment_B7.ipynb\" target=\"_parent\"><img src=\"https://colab.research.google.com/assets/colab-badge.svg\" alt=\"Open In Colab\"/></a>"
      ]
    },
    {
      "cell_type": "markdown",
      "metadata": {
        "id": "BmXs4ArFEiiP",
        "colab_type": "text"
      },
      "source": [
        "DAY 8 - ASSIGNMENT 1 - FIBONACCI USING DECORATERS"
      ]
    },
    {
      "cell_type": "code",
      "metadata": {
        "id": "KyWI5a1REFIu",
        "colab_type": "code",
        "colab": {}
      },
      "source": [
        "def Fibonacci_series(calculate_fibo_series):\n",
        "    def fibo_function() :\n",
        "        print(\"Enter the range of fibonacci series:\" )\n",
        "        num = int(input(\"Range of fibonacci series:\" ) )\n",
        "        calculate_fibo_series(num)\n",
        "\n",
        "    return fibo_function"
      ],
      "execution_count": 9,
      "outputs": []
    },
    {
      "cell_type": "code",
      "metadata": {
        "id": "0e7V-rCxK7XU",
        "colab_type": "code",
        "colab": {
          "base_uri": "https://localhost:8080/",
          "height": 221
        },
        "outputId": "d8455fdb-c43b-4359-e9bf-21b71d5ce079"
      },
      "source": [
        "@Fibonacci_series\n",
        "def fibonacci(x) :\n",
        "    A=0\n",
        "    B=1\n",
        "   \n",
        "    if A==1:\n",
        "        print(A) \n",
        "    else:\n",
        "        print(A) \n",
        "        print(B)\n",
        "\n",
        "    for i in range(2,x):\n",
        "        C = A + B\n",
        "        A = B\n",
        "        B = C\n",
        "        print(C) \n",
        "\n",
        "    return fibonacci\n",
        "\n",
        "fibonacci()"
      ],
      "execution_count": 10,
      "outputs": [
        {
          "output_type": "stream",
          "text": [
            "Enter the range of fibonacci series:\n",
            "Range of fibonacci series:10\n",
            "0\n",
            "1\n",
            "1\n",
            "2\n",
            "3\n",
            "5\n",
            "8\n",
            "13\n",
            "21\n",
            "34\n"
          ],
          "name": "stdout"
        }
      ]
    },
    {
      "cell_type": "markdown",
      "metadata": {
        "id": "18acGVeFLK8z",
        "colab_type": "text"
      },
      "source": [
        "DAY 8 - ASSIGNMENT 2 - ERROR AND EXCEPTION HANDLING"
      ]
    },
    {
      "cell_type": "code",
      "metadata": {
        "id": "xxIPWVgsLQax",
        "colab_type": "code",
        "colab": {}
      },
      "source": [
        "file = open(\"Myfile.txt\",\"w\")\n",
        "file.write(\"Hello\")\n",
        "file.close()"
      ],
      "execution_count": 11,
      "outputs": []
    },
    {
      "cell_type": "code",
      "metadata": {
        "id": "8WiU7slJLi3-",
        "colab_type": "code",
        "colab": {
          "base_uri": "https://localhost:8080/",
          "height": 51
        },
        "outputId": "f5f70d06-2c97-4ec1-fe6a-ab82c4013bbc"
      },
      "source": [
        "try:\n",
        "    file = open(\"Myfile.txt\",\"r\")\n",
        "    file.write(\"Hello....!!!This is Pranavi\")\n",
        "    file.close()\n",
        "    print(\"Success\")\n",
        "except Exception as e:\n",
        "    print(e)\n",
        "finally:\n",
        "    print(\"-----END-----\")"
      ],
      "execution_count": 12,
      "outputs": [
        {
          "output_type": "stream",
          "text": [
            "not writable\n",
            "-----END-----\n"
          ],
          "name": "stdout"
        }
      ]
    }
  ]
}